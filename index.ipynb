{
 "cells": [
  {
   "cell_type": "markdown",
   "metadata": {},
   "source": [
    "# Extensions to Linear Models - Lab"
   ]
  },
  {
   "cell_type": "markdown",
   "metadata": {},
   "source": [
    "## Introduction\n",
    "\n",
    "In this lab, you'll practice many concepts you have learned so far, from adding interactions and polynomials to your model to regularization!"
   ]
  },
  {
   "cell_type": "markdown",
   "metadata": {},
   "source": [
    "## Summary\n",
    "\n",
    "You will be able to:\n",
    "\n",
    "- Build a linear regression model with interactions and polynomial features \n",
    "- Use feature selection to obtain the optimal subset of features in a dataset"
   ]
  },
  {
   "cell_type": "markdown",
   "metadata": {},
   "source": [
    "## Let's Get Started!\n",
    "\n",
    "Below we import all the necessary packages for this lab."
   ]
  },
  {
   "cell_type": "code",
   "execution_count": 5,
   "metadata": {},
   "outputs": [],
   "source": [
    "# Run this cell without changes\n",
    "\n",
    "import pandas as pd\n",
    "import numpy as np\n",
    "import matplotlib.pyplot as plt\n",
    "import warnings\n",
    "warnings.filterwarnings('ignore')\n",
    "from itertools import combinations\n",
    "\n",
    "from sklearn.feature_selection import RFE\n",
    "from sklearn.linear_model import LinearRegression, Lasso\n",
    "from sklearn.metrics import mean_squared_error\n",
    "from sklearn.model_selection import train_test_split\n",
    "from sklearn.preprocessing import StandardScaler, PolynomialFeatures"
   ]
  },
  {
   "cell_type": "markdown",
   "metadata": {},
   "source": [
    "Load the data."
   ]
  },
  {
   "cell_type": "code",
   "execution_count": 7,
   "metadata": {},
   "outputs": [],
   "source": [
    "# Run this cell without changes\n",
    "\n",
    "# Load data from CSV\n",
    "df = pd.read_csv(\"ames.csv\")\n",
    "# Subset columns\n",
    "df = df[['LotArea', 'OverallQual', 'OverallCond', 'TotalBsmtSF',\n",
    "         '1stFlrSF', '2ndFlrSF', 'GrLivArea', 'TotRmsAbvGrd',\n",
    "         'GarageArea', 'Fireplaces', 'SalePrice']]\n",
    "\n",
    "# Split the data into X and y\n",
    "y = df['SalePrice']\n",
    "X = df.drop(columns='SalePrice')\n",
    "\n",
    "# Split into train, test, and validation sets\n",
    "X_train, X_test, y_train, y_test = train_test_split(X, y, random_state=42)\n",
    "X_train, X_val, y_train, y_val = train_test_split(X_train, y_train, random_state=0)"
   ]
  },
  {
   "cell_type": "markdown",
   "metadata": {},
   "source": [
    "## Build a Baseline Housing Data Model"
   ]
  },
  {
   "cell_type": "markdown",
   "metadata": {},
   "source": [
    "Above, we imported the Ames housing data and grabbed a subset of the data to use in this analysis.\n",
    "\n",
    "Next steps:\n",
    "\n",
    "- Scale all the predictors using `StandardScaler`, then convert these scaled features back into DataFrame objects\n",
    "- Build a baseline `LinearRegression` model using *scaled variables* as predictors and use the $R^2$ score to evaluate the model "
   ]
  },
  {
   "cell_type": "code",
   "execution_count": 10,
   "metadata": {},
   "outputs": [],
   "source": [
    "# Your code here\n",
    "scaler = StandardScaler()\n",
    "X_train_scaled = scaler.fit_transform(X_train)\n",
    "X_val_scaled = scaler.transform(X_val)\n",
    "\n",
    "# Ensure X_train and X_val are scaled DataFrames\n",
    "# (hint: you can set the columns using X.columns)\n",
    "X_train = pd.DataFrame(X_train_scaled, columns=X.columns)\n",
    "X_val = pd.DataFrame(X_val_scaled, columns=X.columns)"
   ]
  },
  {
   "cell_type": "code",
   "execution_count": 11,
   "metadata": {},
   "outputs": [],
   "source": [
    "# Your code here\n",
    "\n",
    "# Create a LinearRegression model and fit it on scaled training data\n",
    "regression = LinearRegression()\n",
    "regression.fit(X_train, y_train)\n",
    "\n",
    "# Calculate a baseline r-squared score on training data\n",
    "baseline_train = regression.score(X_train, y_train)\n",
    "baseline_val = regression.score(X_val, y_val)"
   ]
  },
  {
   "cell_type": "markdown",
   "metadata": {},
   "source": [
    "## Add Interactions\n",
    "\n",
    "Instead of adding all possible interaction terms, let's try a custom technique. We are only going to add the interaction terms that increase the $R^2$ score as much as possible. Specifically we are going to look for the 7 interaction terms that each cause the most increase in the coefficient of determination.\n",
    "\n",
    "### Find the Best Interactions\n",
    "\n",
    "Look at all the possible combinations of variables for interactions by adding interactions one by one to the baseline model. Create a data structure that stores the pair of columns used as well as the $R^2$ score for each combination.\n",
    "\n",
    "***Hint:*** We have imported the `combinations` function from `itertools` for you ([documentation here](https://docs.python.org/3/library/itertools.html#itertools.combinations)). Try applying this to the columns of `X_train` to find all of the possible pairs.\n",
    "\n",
    "Print the 7 interactions that result in the highest $R^2$ scores."
   ]
  },
  {
   "cell_type": "code",
   "execution_count": 13,
   "metadata": {},
   "outputs": [
    {
     "name": "stdout",
     "output_type": "stream",
     "text": [
      "[(('LotArea', '1stFlrSF'), 0.7211105666140571), (('LotArea', 'TotalBsmtSF'), 0.707164920705011), (('LotArea', 'GrLivArea'), 0.6690980823779022), (('LotArea', 'Fireplaces'), 0.6529699515652586), (('2ndFlrSF', 'TotRmsAbvGrd'), 0.647299489040519), (('OverallCond', 'TotalBsmtSF'), 0.642901987923377), (('OverallQual', '2ndFlrSF'), 0.6422324294284367)]\n"
     ]
    }
   ],
   "source": [
    "# Your code here\n",
    "\n",
    "# Set up data structure\n",
    "interactions = []\n",
    "\n",
    "# Find combinations of columns and loop over them\n",
    "col_comb = list(combinations(X_train.columns, 2))\n",
    "for (a, b) in col_comb:\n",
    "    # Make copies of X_train and X_val\n",
    "    X_train_copy = X_train.copy()\n",
    "    X_val_copy = X_val.copy()\n",
    "    \n",
    "    # Add interaction term to data\n",
    "    X_train_copy['interaction'] = X_train_copy[a] * X_train_copy[b]\n",
    "    X_val_copy['interaction'] = X_val_copy[a] * X_val_copy[b]\n",
    "    # Find r-squared score (fit on training data, evaluate on validation data)\n",
    "    r_squared = LinearRegression().fit(X_train_copy, y_train).score(X_val_copy, y_val)\n",
    "    \n",
    "    # Append to data structure\n",
    "    interactions.append(((a, b), r_squared))\n",
    "    \n",
    "# Sort and subset the data structure to find the top 7\n",
    "interactions.sort(key=lambda x:x[1],reverse=True)\n",
    "print(interactions[:7])"
   ]
  },
  {
   "cell_type": "markdown",
   "metadata": {},
   "source": [
    "### Add the Best Interactions\n",
    "\n",
    "Write code to include the 7 most important interactions in `X_train` and `X_val` by adding 7 columns. Use the naming convention `\"col1_col2\"`, where `col1` and `col2` are the two columns in the interaction."
   ]
  },
  {
   "cell_type": "code",
   "execution_count": 15,
   "metadata": {},
   "outputs": [],
   "source": [
    "# Your code here\n",
    "\n",
    "# Loop over top 7 interactions\n",
    "for interaction in interactions[:7]:\n",
    "    # Extract column names from data structure\n",
    "    (a, b) = interaction[0]\n",
    "    # Construct new column name\n",
    "    name = a + '_' + b\n",
    "    # Add new column to X_train and X_val\n",
    "    X_train[name] = X_train[a] * X_train[b]\n",
    "    X_val[name] = X_val[a] * X_val[b]\n"
   ]
  },
  {
   "cell_type": "markdown",
   "metadata": {},
   "source": [
    "## Add Polynomials\n",
    "\n",
    "Now let's repeat that process for adding polynomial terms.\n",
    "\n",
    "### Find the Best Polynomials\n",
    "\n",
    "Try polynomials of degrees 2, 3, and 4 for each variable, in a similar way you did for interactions (by looking at your baseline model and seeing how $R^2$ increases). Do understand that when going for a polynomial of degree 4 with `PolynomialFeatures`, the particular column is raised to the power of 2 and 3 as well in other terms.\n",
    "\n",
    "We only want to include \"pure\" polynomials, so make sure no interactions are included.\n",
    "\n",
    "Once again you should make a data structure that contains the values you have tested. We recommend a list of tuples of the form:\n",
    "\n",
    "`(col_name, degree, R2)`, so eg. `('OverallQual', 2, 0.781)` "
   ]
  },
  {
   "cell_type": "code",
   "execution_count": 17,
   "metadata": {},
   "outputs": [
    {
     "name": "stdout",
     "output_type": "stream",
     "text": [
      "[('LotArea', 4, 0.746820544030099), ('OverallQual', 4, 0.746820544030099), ('OverallCond', 4, 0.746820544030099), ('TotalBsmtSF', 4, 0.746820544030099), ('1stFlrSF', 4, 0.746820544030099), ('2ndFlrSF', 4, 0.746820544030099), ('GrLivArea', 4, 0.746820544030099)]\n"
     ]
    }
   ],
   "source": [
    "# Your code here\n",
    "\n",
    "# Set up data structure\n",
    "polynomials = []\n",
    "# Loop over all columns\n",
    "for col in X_train.columns:\n",
    "    # Loop over degrees 2, 3, 4\n",
    "    for deg in (2, 3, 4):\n",
    "        # Make a copy of X_train and X_val\n",
    "        X_train_copy = X_train.copy()\n",
    "        X_val_copy = X_val.copy()\n",
    "        \n",
    "        # Instantiate PolynomialFeatures with relevant degree\n",
    "        poly = PolynomialFeatures(deg, include_bias=False)\n",
    "        \n",
    "        # Fit polynomial to column and transform column\n",
    "        # Hint: use the notation df[[column_name]] to get the right shape\n",
    "        # Hint: convert the result to a DataFrame\n",
    "        col_transformed_train = pd.DataFrame(poly.fit_transform(X_train_copy[[col]]))\n",
    "        col_transformed_val = pd.DataFrame(poly.transform(X_val_copy[[col]]))\n",
    "        \n",
    "        # Add polynomial to data\n",
    "        # Hint: use pd.concat since you're combining two DataFrames\n",
    "        # Hint: drop the column before combining so it doesn't appear twice\n",
    "        features_train = pd.concat([X_train_copy.drop(col, axis=1), col_transformed_train], axis=1)\n",
    "        features_val = pd.concat([X_val_copy.drop(col, axis=1), col_transformed_val], axis=1)\n",
    "        \n",
    "        # Find r-squared score on validation\n",
    "        r_squared = LinearRegression().fit(X_train_copy, y_train).score(X_val_copy, y_val)\n",
    "        # Append to data structure\n",
    "        polynomials.append((col, deg, r_squared))\n",
    "\n",
    "# Sort and subset the data structure to find the top 7\n",
    "polynomials.sort(key=lambda x:x[1],reverse=True)\n",
    "print(polynomials[:7])"
   ]
  },
  {
   "cell_type": "markdown",
   "metadata": {},
   "source": [
    "### Add the Best Polynomials\n",
    "\n",
    "If there are duplicate column values in the results above, don't add multiple of them to the model, to avoid creating duplicate columns. (For example, if column `A` appeared in your list as both a 2nd and 3rd degree polynomial, adding both would result in `A` squared being added to the features twice.) Just add in the polynomial that results in the highest R-Squared."
   ]
  },
  {
   "cell_type": "code",
   "execution_count": 19,
   "metadata": {},
   "outputs": [],
   "source": [
    "# Your code here\n",
    "top_polynomials = pd.DataFrame(polynomials[:7], columns=[\"Column\", \"Degree\", \"R^2\"])\n",
    "top_polynomials\n",
    "# Filter out duplicates\n",
    "top_polynomials.drop_duplicates(subset=\"Column\", inplace=True)\n",
    "top_polynomials\n",
    "# Loop over remaining results\n",
    "for (col, degree, _) in top_polynomials.values:\n",
    "    # Create polynomial terms\n",
    "    poly = PolynomialFeatures(degree, include_bias=False)\n",
    "    train_poly = pd.DataFrame(poly.fit_transform(X_train[[col]]), columns=poly.get_feature_names_out([col]))\n",
    "    val_poly = pd.DataFrame(poly.transform(X_val[[col]]), columns=poly.get_feature_names_out([col]))\n",
    "    # Concat new polynomials to X_train and X_val\n",
    "    X_train = pd.concat([X_train.drop(col, axis=1), train_poly], axis=1)\n",
    "    X_val = pd.concat([X_val.drop(col, axis=1), val_poly], axis=1)    "
   ]
  },
  {
   "cell_type": "markdown",
   "metadata": {},
   "source": [
    "Check out your final data set and make sure that your interaction terms as well as your polynomial terms are included."
   ]
  },
  {
   "cell_type": "code",
   "execution_count": 21,
   "metadata": {},
   "outputs": [
    {
     "data": {
      "text/html": [
       "<div>\n",
       "<style scoped>\n",
       "    .dataframe tbody tr th:only-of-type {\n",
       "        vertical-align: middle;\n",
       "    }\n",
       "\n",
       "    .dataframe tbody tr th {\n",
       "        vertical-align: top;\n",
       "    }\n",
       "\n",
       "    .dataframe thead th {\n",
       "        text-align: right;\n",
       "    }\n",
       "</style>\n",
       "<table border=\"1\" class=\"dataframe\">\n",
       "  <thead>\n",
       "    <tr style=\"text-align: right;\">\n",
       "      <th></th>\n",
       "      <th>TotRmsAbvGrd</th>\n",
       "      <th>GarageArea</th>\n",
       "      <th>Fireplaces</th>\n",
       "      <th>LotArea_1stFlrSF</th>\n",
       "      <th>LotArea_TotalBsmtSF</th>\n",
       "      <th>LotArea_GrLivArea</th>\n",
       "      <th>LotArea_Fireplaces</th>\n",
       "      <th>2ndFlrSF_TotRmsAbvGrd</th>\n",
       "      <th>OverallCond_TotalBsmtSF</th>\n",
       "      <th>OverallQual_2ndFlrSF</th>\n",
       "      <th>...</th>\n",
       "      <th>1stFlrSF^3</th>\n",
       "      <th>1stFlrSF^4</th>\n",
       "      <th>2ndFlrSF</th>\n",
       "      <th>2ndFlrSF^2</th>\n",
       "      <th>2ndFlrSF^3</th>\n",
       "      <th>2ndFlrSF^4</th>\n",
       "      <th>GrLivArea</th>\n",
       "      <th>GrLivArea^2</th>\n",
       "      <th>GrLivArea^3</th>\n",
       "      <th>GrLivArea^4</th>\n",
       "    </tr>\n",
       "  </thead>\n",
       "  <tbody>\n",
       "    <tr>\n",
       "      <th>0</th>\n",
       "      <td>0.250689</td>\n",
       "      <td>0.327629</td>\n",
       "      <td>-0.994820</td>\n",
       "      <td>0.092318</td>\n",
       "      <td>0.073336</td>\n",
       "      <td>-0.057254</td>\n",
       "      <td>0.114116</td>\n",
       "      <td>0.316257</td>\n",
       "      <td>0.325573</td>\n",
       "      <td>-0.125956</td>\n",
       "      <td>...</td>\n",
       "      <td>-0.521250</td>\n",
       "      <td>0.419496</td>\n",
       "      <td>1.261552</td>\n",
       "      <td>1.591512</td>\n",
       "      <td>2.007775</td>\n",
       "      <td>2.532911</td>\n",
       "      <td>0.499114</td>\n",
       "      <td>0.249115</td>\n",
       "      <td>0.124337</td>\n",
       "      <td>0.062058</td>\n",
       "    </tr>\n",
       "    <tr>\n",
       "      <th>1</th>\n",
       "      <td>-0.365525</td>\n",
       "      <td>0.079146</td>\n",
       "      <td>-0.994820</td>\n",
       "      <td>-0.113385</td>\n",
       "      <td>-0.148128</td>\n",
       "      <td>0.043694</td>\n",
       "      <td>0.175804</td>\n",
       "      <td>0.295392</td>\n",
       "      <td>-0.426859</td>\n",
       "      <td>-0.510770</td>\n",
       "      <td>...</td>\n",
       "      <td>0.264125</td>\n",
       "      <td>0.169465</td>\n",
       "      <td>-0.808132</td>\n",
       "      <td>0.653077</td>\n",
       "      <td>-0.527772</td>\n",
       "      <td>0.426509</td>\n",
       "      <td>-0.247249</td>\n",
       "      <td>0.061132</td>\n",
       "      <td>-0.015115</td>\n",
       "      <td>0.003737</td>\n",
       "    </tr>\n",
       "    <tr>\n",
       "      <th>2</th>\n",
       "      <td>-0.981739</td>\n",
       "      <td>-1.105931</td>\n",
       "      <td>-0.994820</td>\n",
       "      <td>0.081045</td>\n",
       "      <td>0.003094</td>\n",
       "      <td>0.232730</td>\n",
       "      <td>0.245060</td>\n",
       "      <td>0.793375</td>\n",
       "      <td>-0.016386</td>\n",
       "      <td>0.672141</td>\n",
       "      <td>...</td>\n",
       "      <td>-0.035611</td>\n",
       "      <td>0.011716</td>\n",
       "      <td>-0.808132</td>\n",
       "      <td>0.653077</td>\n",
       "      <td>-0.527772</td>\n",
       "      <td>0.426509</td>\n",
       "      <td>-0.944766</td>\n",
       "      <td>0.892583</td>\n",
       "      <td>-0.843282</td>\n",
       "      <td>0.796704</td>\n",
       "    </tr>\n",
       "    <tr>\n",
       "      <th>3</th>\n",
       "      <td>-0.981739</td>\n",
       "      <td>-1.134602</td>\n",
       "      <td>0.588023</td>\n",
       "      <td>0.230591</td>\n",
       "      <td>0.128368</td>\n",
       "      <td>0.433899</td>\n",
       "      <td>-0.222636</td>\n",
       "      <td>0.793375</td>\n",
       "      <td>-0.442323</td>\n",
       "      <td>0.672141</td>\n",
       "      <td>...</td>\n",
       "      <td>-0.225906</td>\n",
       "      <td>0.137585</td>\n",
       "      <td>-0.808132</td>\n",
       "      <td>0.653077</td>\n",
       "      <td>-0.527772</td>\n",
       "      <td>0.426509</td>\n",
       "      <td>-1.146010</td>\n",
       "      <td>1.313340</td>\n",
       "      <td>-1.505101</td>\n",
       "      <td>1.724862</td>\n",
       "    </tr>\n",
       "    <tr>\n",
       "      <th>4</th>\n",
       "      <td>0.250689</td>\n",
       "      <td>-2.281450</td>\n",
       "      <td>-0.994820</td>\n",
       "      <td>0.014341</td>\n",
       "      <td>0.027589</td>\n",
       "      <td>0.005250</td>\n",
       "      <td>0.010842</td>\n",
       "      <td>0.138010</td>\n",
       "      <td>-3.302627</td>\n",
       "      <td>-0.860799</td>\n",
       "      <td>...</td>\n",
       "      <td>-2.278716</td>\n",
       "      <td>2.998612</td>\n",
       "      <td>0.550523</td>\n",
       "      <td>0.303075</td>\n",
       "      <td>0.166850</td>\n",
       "      <td>0.091854</td>\n",
       "      <td>-0.481708</td>\n",
       "      <td>0.232043</td>\n",
       "      <td>-0.111777</td>\n",
       "      <td>0.053844</td>\n",
       "    </tr>\n",
       "  </tbody>\n",
       "</table>\n",
       "<p>5 rows × 38 columns</p>\n",
       "</div>"
      ],
      "text/plain": [
       "   TotRmsAbvGrd  GarageArea  Fireplaces  LotArea_1stFlrSF  \\\n",
       "0      0.250689    0.327629   -0.994820          0.092318   \n",
       "1     -0.365525    0.079146   -0.994820         -0.113385   \n",
       "2     -0.981739   -1.105931   -0.994820          0.081045   \n",
       "3     -0.981739   -1.134602    0.588023          0.230591   \n",
       "4      0.250689   -2.281450   -0.994820          0.014341   \n",
       "\n",
       "   LotArea_TotalBsmtSF  LotArea_GrLivArea  LotArea_Fireplaces  \\\n",
       "0             0.073336          -0.057254            0.114116   \n",
       "1            -0.148128           0.043694            0.175804   \n",
       "2             0.003094           0.232730            0.245060   \n",
       "3             0.128368           0.433899           -0.222636   \n",
       "4             0.027589           0.005250            0.010842   \n",
       "\n",
       "   2ndFlrSF_TotRmsAbvGrd  OverallCond_TotalBsmtSF  OverallQual_2ndFlrSF  ...  \\\n",
       "0               0.316257                 0.325573             -0.125956  ...   \n",
       "1               0.295392                -0.426859             -0.510770  ...   \n",
       "2               0.793375                -0.016386              0.672141  ...   \n",
       "3               0.793375                -0.442323              0.672141  ...   \n",
       "4               0.138010                -3.302627             -0.860799  ...   \n",
       "\n",
       "   1stFlrSF^3  1stFlrSF^4  2ndFlrSF  2ndFlrSF^2  2ndFlrSF^3  2ndFlrSF^4  \\\n",
       "0   -0.521250    0.419496  1.261552    1.591512    2.007775    2.532911   \n",
       "1    0.264125    0.169465 -0.808132    0.653077   -0.527772    0.426509   \n",
       "2   -0.035611    0.011716 -0.808132    0.653077   -0.527772    0.426509   \n",
       "3   -0.225906    0.137585 -0.808132    0.653077   -0.527772    0.426509   \n",
       "4   -2.278716    2.998612  0.550523    0.303075    0.166850    0.091854   \n",
       "\n",
       "   GrLivArea  GrLivArea^2  GrLivArea^3  GrLivArea^4  \n",
       "0   0.499114     0.249115     0.124337     0.062058  \n",
       "1  -0.247249     0.061132    -0.015115     0.003737  \n",
       "2  -0.944766     0.892583    -0.843282     0.796704  \n",
       "3  -1.146010     1.313340    -1.505101     1.724862  \n",
       "4  -0.481708     0.232043    -0.111777     0.053844  \n",
       "\n",
       "[5 rows x 38 columns]"
      ]
     },
     "execution_count": 21,
     "metadata": {},
     "output_type": "execute_result"
    }
   ],
   "source": [
    "# Your code here\n",
    "X_train.head()"
   ]
  },
  {
   "cell_type": "markdown",
   "metadata": {},
   "source": [
    "## Full Model R-Squared"
   ]
  },
  {
   "cell_type": "markdown",
   "metadata": {},
   "source": [
    "Check out the $R^2$ of the full model with your interaction and polynomial terms added. Print this value for both the train and validation data."
   ]
  },
  {
   "cell_type": "code",
   "execution_count": 24,
   "metadata": {},
   "outputs": [
    {
     "name": "stdout",
     "output_type": "stream",
     "text": [
      "Train R-Squared: 0.8788607883639323\n",
      "Validation R-Squared:  -20.09861254944085\n"
     ]
    }
   ],
   "source": [
    "# Your code here\n",
    "reg = LinearRegression()\n",
    "reg.fit(X_train, y_train)\n",
    "\n",
    "print(\"Train R-Squared:\", reg.score(X_train, y_train))\n",
    "print(\"Validation R-Squared: \", reg.score(X_val, y_val))"
   ]
  },
  {
   "cell_type": "markdown",
   "metadata": {},
   "source": [
    "It looks like we may be overfitting some now. Let's try some feature selection techniques."
   ]
  },
  {
   "cell_type": "markdown",
   "metadata": {},
   "source": [
    "## Feature Selection\n",
    "\n",
    "First, test out `RFE` ([documentation here](https://scikit-learn.org/stable/modules/generated/sklearn.feature_selection.RFE.html)) with several different `n_features_to_select` values. For each value, print out the train and validation $R^2$ score and how many features remain."
   ]
  },
  {
   "cell_type": "code",
   "execution_count": 27,
   "metadata": {},
   "outputs": [
    {
     "name": "stdout",
     "output_type": "stream",
     "text": [
      "Train R^2: 0.7016756546164582\n",
      "Test R^2:  0.6066047409179585\n",
      "Using 2 out of 38 features\n",
      "\n",
      "Train R^2: 0.7613382811926305\n",
      "Test R^2:  0.6145675279067211\n",
      "Using 4 out of 38 features\n",
      "\n",
      "Train R^2: 0.8025649160167796\n",
      "Test R^2:  0.6451196115158557\n",
      "Using 6 out of 38 features\n",
      "\n",
      "Train R^2: 0.8150363311499462\n",
      "Test R^2:  0.6536945906395959\n",
      "Using 8 out of 38 features\n",
      "\n",
      "Train R^2: 0.8191862278324273\n",
      "Test R^2:  0.674347615986074\n",
      "Using 10 out of 38 features\n",
      "\n",
      "Train R^2: 0.8204988167998999\n",
      "Test R^2:  0.6713872111439736\n",
      "Using 12 out of 38 features\n",
      "\n",
      "Train R^2: 0.8495318516143885\n",
      "Test R^2:  -0.37393758580721403\n",
      "Using 14 out of 38 features\n",
      "\n",
      "Train R^2: 0.8561451376337077\n",
      "Test R^2:  -0.5346481249170734\n",
      "Using 16 out of 38 features\n",
      "\n",
      "Train R^2: 0.8563326757174328\n",
      "Test R^2:  -0.7239730921996586\n",
      "Using 18 out of 38 features\n",
      "\n",
      "Train R^2: 0.8739154002825809\n",
      "Test R^2:  -35.24588722374384\n",
      "Using 20 out of 38 features\n",
      "\n",
      "Train R^2: 0.8739159729873535\n",
      "Test R^2:  -35.26526837430693\n",
      "Using 22 out of 38 features\n",
      "\n",
      "Train R^2: 0.8765164004776598\n",
      "Test R^2:  -54.63100410711102\n",
      "Using 24 out of 38 features\n",
      "\n",
      "Train R^2: 0.877305400037646\n",
      "Test R^2:  -53.871865585394325\n",
      "Using 26 out of 38 features\n",
      "\n",
      "Train R^2: 0.8773187962106761\n",
      "Test R^2:  -53.53130934378231\n",
      "Using 28 out of 38 features\n",
      "\n",
      "Train R^2: 0.8774629164494719\n",
      "Test R^2:  -51.969603770420804\n",
      "Using 30 out of 38 features\n",
      "\n",
      "Train R^2: 0.8784116048249345\n",
      "Test R^2:  -21.580613860279605\n",
      "Using 32 out of 38 features\n",
      "\n",
      "Train R^2: 0.878458254619084\n",
      "Test R^2:  -20.673257515555157\n",
      "Using 34 out of 38 features\n",
      "\n",
      "Train R^2: 0.8788192125413172\n",
      "Test R^2:  -19.548347875452365\n",
      "Using 36 out of 38 features\n",
      "\n",
      "Train R^2: 0.8788607883639323\n",
      "Test R^2:  -20.09861254944085\n",
      "Using 38 out of 38 features\n",
      "\n"
     ]
    }
   ],
   "source": [
    "# Your code here\n",
    "for n in range(1, 20):\n",
    "    rfe = RFE(LinearRegression(), n_features_to_select=n*2)\n",
    "    X_rfe_train = rfe.fit_transform(X_train, y_train)\n",
    "    X_rfe_val = rfe.transform(X_val)\n",
    "\n",
    "    lr = LinearRegression()\n",
    "    lr.fit(X_rfe_train, y_train)\n",
    "\n",
    "    print(\"Train R^2:\", lr.score(X_rfe_train, y_train))\n",
    "    print(\"Test R^2: \", lr.score(X_rfe_val, y_val))\n",
    "    print(f\"Using {n*2} out of {X_train.shape[1]} features\")\n",
    "    print()"
   ]
  },
  {
   "cell_type": "markdown",
   "metadata": {},
   "source": [
    "Now test out `Lasso` ([documentation here](https://scikit-learn.org/stable/modules/generated/sklearn.linear_model.Lasso.html)) with several different `alpha` values."
   ]
  },
  {
   "cell_type": "code",
   "execution_count": 29,
   "metadata": {},
   "outputs": [
    {
     "name": "stdout",
     "output_type": "stream",
     "text": [
      "Train R^2: 0.8788147491291005\n",
      "Validation R^2:  -19.57146596556102\n",
      "Using 26 out of 38 features\n",
      "and an alpha of 1\n",
      "\n",
      "Train R^2: 0.8787918494675016\n",
      "Validation R^2:  -19.649255896133774\n",
      "Using 26 out of 38 features\n",
      "and an alpha of 10\n",
      "\n",
      "Train R^2: 0.8781801955905787\n",
      "Validation R^2:  -19.773609887006337\n",
      "Using 20 out of 38 features\n",
      "and an alpha of 100\n",
      "\n",
      "Train R^2: 0.8703164047633913\n",
      "Validation R^2:  -16.90140646492175\n",
      "Using 14 out of 38 features\n",
      "and an alpha of 1000\n",
      "\n",
      "Train R^2: 0.7954415133340873\n",
      "Validation R^2:  -20.650854157484858\n",
      "Using 3 out of 38 features\n",
      "and an alpha of 10000\n",
      "\n"
     ]
    }
   ],
   "source": [
    "# Your code here\n",
    "for alpha in [1, 10, 100, 1000, 10000]:\n",
    "    lasso = Lasso(alpha=alpha)\n",
    "    lasso.fit(X_train, y_train)\n",
    "\n",
    "    print(\"Train R^2:\", lasso.score(X_train, y_train))\n",
    "    print(\"Validation R^2: \", lasso.score(X_val, y_val))\n",
    "    print(f\"Using { 26 - (sum(abs(lasso.coef_) < 10**(-10)))} out of {X_train.shape[1]} features\")\n",
    "    print(\"and an alpha of\", alpha)\n",
    "    print()"
   ]
  },
  {
   "cell_type": "markdown",
   "metadata": {},
   "source": [
    "Compare the results. Which features would you choose to use?"
   ]
  },
  {
   "cell_type": "code",
   "execution_count": 31,
   "metadata": {},
   "outputs": [],
   "source": [
    "# Your written answer here"
   ]
  },
  {
   "cell_type": "markdown",
   "metadata": {},
   "source": [
    "## Evaluate Final Model on Test Data\n",
    "\n",
    "### Data Preparation\n",
    "\n",
    "At the start of this lab, we created `X_test` and `y_test`. Prepare `X_test` the same way that `X_train` and `X_val` have been prepared. This includes scaling, adding interactions, and adding polynomial terms."
   ]
  },
  {
   "cell_type": "code",
   "execution_count": 33,
   "metadata": {},
   "outputs": [],
   "source": [
    "# Scale X_test\n",
    "X_test_scaled = scaler.transform(X_test)\n",
    "X_test = pd.DataFrame(X_test_scaled, columns=X.columns)\n",
    "\n",
    "# Add interactions to X_test\n",
    "for record in interactions[:7]:\n",
    "    col1, col2 = record[0]\n",
    "    new_col_name = col1 + \"_\" + col2\n",
    "    X_test[new_col_name] = X_test[col1] * X_test[col2]\n",
    "\n",
    "# Add polynomials to X_val\n",
    "for (col, degree, _) in top_polynomials.values:\n",
    "    poly = PolynomialFeatures(degree, include_bias=False)\n",
    "    poly_test = pd.DataFrame(poly.fit_transform(X_test[[col]]),\n",
    "                                        columns=poly.get_feature_names_out([col]))\n",
    "    X_test = pd.concat([X_test.drop(col, axis=1), poly_test], axis=1)"
   ]
  },
  {
   "cell_type": "markdown",
   "metadata": {},
   "source": [
    "### Evaluation"
   ]
  },
  {
   "cell_type": "markdown",
   "metadata": {},
   "source": [
    "Using either `RFE` or `Lasso`, fit a model on the complete train + validation set, then find R-Squared and MSE values for the test set."
   ]
  },
  {
   "cell_type": "code",
   "execution_count": 55,
   "metadata": {},
   "outputs": [
    {
     "name": "stdout",
     "output_type": "stream",
     "text": [
      "R-Squared: 0.7753027817785102\n",
      "MSE: 1574073456.8424664\n"
     ]
    }
   ],
   "source": [
    "# Your code here\n",
    "final_model = Lasso(alpha=10000)\n",
    "final_model.fit(pd.concat([X_train, X_val]), pd.concat([y_train, y_val]))\n",
    "\n",
    "print(\"R-Squared:\", final_model.score(X_test, y_test))\n",
    "print(\"MSE:\", mean_squared_error(y_test, final_model.predict(X_test)))"
   ]
  },
  {
   "cell_type": "markdown",
   "metadata": {},
   "source": [
    "## Level Up Ideas (Optional)\n",
    "\n",
    "### Create a Lasso Path\n",
    "\n",
    "From this section, you know that when using `Lasso`, more parameters shrink to zero as your regularization parameter goes up. In scikit-learn there is a function `lasso_path()` which visualizes the shrinkage of the coefficients while $alpha$ changes. Try this out yourself!\n",
    "\n",
    "https://scikit-learn.org/stable/auto_examples/linear_model/plot_lasso_coordinate_descent_path.html#sphx-glr-auto-examples-linear-model-plot-lasso-coordinate-descent-path-py\n",
    "\n",
    "### AIC and BIC for Subset Selection\n",
    "\n",
    "This notebook shows how you can use AIC and BIC purely for feature selection. Try this code out on our Ames housing data!\n",
    "\n",
    "https://xavierbourretsicotte.github.io/subset_selection.html"
   ]
  },
  {
   "cell_type": "markdown",
   "metadata": {},
   "source": [
    "## Summary"
   ]
  },
  {
   "cell_type": "markdown",
   "metadata": {},
   "source": [
    "Congratulations! You now know how to apply concepts of bias-variance tradeoff using extensions to linear models and feature selection."
   ]
  }
 ],
 "metadata": {
  "kernelspec": {
   "display_name": "Python 3 (ipykernel)",
   "language": "python",
   "name": "python3"
  },
  "language_info": {
   "codemirror_mode": {
    "name": "ipython",
    "version": 3
   },
   "file_extension": ".py",
   "mimetype": "text/x-python",
   "name": "python",
   "nbconvert_exporter": "python",
   "pygments_lexer": "ipython3",
   "version": "3.12.4"
  }
 },
 "nbformat": 4,
 "nbformat_minor": 4
}
